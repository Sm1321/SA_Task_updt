{
 "cells": [
  {
   "cell_type": "code",
   "execution_count": 49,
   "metadata": {},
   "outputs": [],
   "source": [
    "#! pip install mysql-connector-python -q"
   ]
  },
  {
   "cell_type": "code",
   "execution_count": 50,
   "metadata": {},
   "outputs": [],
   "source": [
    "\n",
    "\n",
    "# Importing the necessary module\n",
    "import mysql.connector\n",
    "\n"
   ]
  },
  {
   "cell_type": "code",
   "execution_count": 51,
   "metadata": {},
   "outputs": [],
   "source": [
    "# Step 1: Establish Connection\n",
    "mydb = mysql.connector.connect(\n",
    "    host = \"127.0.0.1\",\n",
    "    user = \"root\",\n",
    "    password = \"1234\"\n",
    ")"
   ]
  },
  {
   "cell_type": "code",
   "execution_count": 52,
   "metadata": {},
   "outputs": [
    {
     "name": "stdout",
     "output_type": "stream",
     "text": [
      "<mysql.connector.connection_cext.CMySQLConnection object at 0x000001E8CC4CC650>\n"
     ]
    }
   ],
   "source": [
    "\n",
    "# Check the connection\n",
    "print(mydb)"
   ]
  },
  {
   "cell_type": "code",
   "execution_count": 53,
   "metadata": {},
   "outputs": [],
   "source": [
    "\n",
    "# Step 2: Create a Cursor\n",
    "cursor = mydb.cursor()"
   ]
  },
  {
   "cell_type": "code",
   "execution_count": null,
   "metadata": {},
   "outputs": [],
   "source": [
    "# Step 3: Create a Database\n",
    "cursor.execute(\"CREATE DATABASE IF NOT EXISTS Temporary_Employee_Tracker\")\n"
   ]
  },
  {
   "cell_type": "code",
   "execution_count": null,
   "metadata": {},
   "outputs": [],
   "source": [
    "# Step 4: Use the Database\n",
    "cursor.execute(\"USE Temporary_Employee_Tracker\")"
   ]
  },
  {
   "cell_type": "code",
   "execution_count": null,
   "metadata": {},
   "outputs": [],
   "source": [
    "# Step 5: Create Tables\n",
    "## Employee_List Table\n",
    "cursor.execute(\"\"\"\n",
    "CREATE TABLE IF NOT EXISTS employee_list (\n",
    "    Name VARCHAR(20),\n",
    "    Position VARCHAR(25),\n",
    "    Skills VARCHAR(50),\n",
    "    CurrentStatus VARCHAR(20)\n",
    ")\n",
    "\"\"\")\n"
   ]
  },
  {
   "cell_type": "code",
   "execution_count": null,
   "metadata": {},
   "outputs": [],
   "source": [
    "## Main Table\n",
    "cursor.execute(\"\"\"\n",
    "CREATE TABLE IF NOT EXISTS main_table (\n",
    "    WeekEnd_Date DATE,\n",
    "    Employee VARCHAR(25),\n",
    "    Project VARCHAR(50),\n",
    "    Time_in_hours INT\n",
    ")\n",
    "\"\"\")\n"
   ]
  },
  {
   "cell_type": "code",
   "execution_count": null,
   "metadata": {},
   "outputs": [],
   "source": [
    "\n",
    "## Project_List Table\n",
    "cursor.execute(\"\"\"\n",
    "CREATE TABLE IF NOT EXISTS Project_List (\n",
    "    Project VARCHAR(25),\n",
    "    Description VARCHAR(25),\n",
    "    StartDate DATE,\n",
    "    Expected_to_Complete INT,\n",
    "    Internal_or_External VARCHAR(50),\n",
    "    Status VARCHAR(20)\n",
    ")\n",
    "\"\"\")"
   ]
  },
  {
   "cell_type": "code",
   "execution_count": null,
   "metadata": {},
   "outputs": [],
   "source": [
    "\n",
    "\n",
    "# Step 6: Insert Data into employee_list Table\n",
    "employee_data = [\n",
    "    ('Ram', 'Manager', 'Python, ML', 'Active'),\n",
    "    ('Laxman', 'Developer', 'Java, SQL', 'Active'),\n",
    "    ('Charan', 'Analyst', 'R, Analytics', 'Active'),\n",
    "    ('Mohan', 'DataScientist', 'Python, ML', 'Active'),\n",
    "    ('Krish', 'Data Analyst', 'Python, SQL', 'Active')\n",
    "]\n",
    "\n",
    "cursor.executemany(\"\"\"\n",
    "INSERT INTO employee_list (Name, Position, Skills, CurrentStatus) VALUES (%s, %s, %s, %s)\n",
    "\"\"\", employee_data)\n"
   ]
  },
  {
   "cell_type": "code",
   "execution_count": null,
   "metadata": {},
   "outputs": [],
   "source": [
    "\n",
    "# Step 7: Insert Data into main_table\n",
    "main_table_data = [\n",
    "    ('2024-12-02', 'Ram', 'Project A', 50),\n",
    "    ('2024-12-03', 'Laxman', 'Project B', 60),\n",
    "    ('2024-11-29', 'Ram', 'Project C', 50),\n",
    "    ('2024-11-28', 'Charan', 'Project D', 80),\n",
    "    ('2024-12-05', 'Laxman', 'Project E', 40),\n",
    "    ('2024-12-02', 'Mohan', 'Project M', 45)\n",
    "]\n",
    "\n",
    "cursor.executemany(\"\"\"\n",
    "INSERT INTO main_table (WeekEnd_Date, Employee, Project, Time_in_hours) VALUES (%s, %s, %s, %s)\n",
    "\"\"\", main_table_data)"
   ]
  },
  {
   "cell_type": "code",
   "execution_count": null,
   "metadata": {},
   "outputs": [],
   "source": [
    "\n",
    "# Step 8: Insert Data into Project_List Table\n",
    "project_data = [\n",
    "    ('Project A', 'Analysis', '2024-12-02', 4, 'Internal', 'Active'),\n",
    "    ('Project B', 'Development', '2024-11-25', 6, 'External', 'Completed'),\n",
    "    ('Project C', 'Testing', '2024-11-20', 8, 'Internal', 'On Hold'),\n",
    "    ('Project D', 'Reporting', '2024-04-01', 3, 'External', 'Active'),\n",
    "    ('Project E', 'Design', '2024-05-01', 5, 'Internal', 'Active')\n",
    "]\n",
    "\n",
    "cursor.executemany(\"\"\"\n",
    "INSERT INTO Project_List (Project, Description, StartDate, Expected_to_Complete, Internal_or_External, Status) VALUES (%s, %s, %s, %s, %s, %s)\n",
    "\"\"\", project_data)\n"
   ]
  },
  {
   "cell_type": "code",
   "execution_count": null,
   "metadata": {},
   "outputs": [
    {
     "name": "stdout",
     "output_type": "stream",
     "text": [
      "Tables created and data inserted successfully!\n"
     ]
    }
   ],
   "source": [
    "# Commit the changes\n",
    "mydb.commit()\n",
    "\n",
    "# Print success messages\n",
    "print(\"Tables created and data inserted successfully!\")\n"
   ]
  },
  {
   "cell_type": "code",
   "execution_count": null,
   "metadata": {},
   "outputs": [],
   "source": [
    "##Close connection\n",
    "# Disconnecting from the database \n",
    "mydb.close()"
   ]
  },
  {
   "cell_type": "code",
   "execution_count": null,
   "metadata": {},
   "outputs": [
    {
     "data": {
      "text/plain": [
       "True"
      ]
     },
     "execution_count": 35,
     "metadata": {},
     "output_type": "execute_result"
    }
   ],
   "source": [
    "cursor.close()\n",
    "\n"
   ]
  },
  {
   "cell_type": "code",
   "execution_count": null,
   "metadata": {},
   "outputs": [],
   "source": []
  },
  {
   "cell_type": "code",
   "execution_count": null,
   "metadata": {},
   "outputs": [],
   "source": []
  }
 ],
 "metadata": {
  "kernelspec": {
   "display_name": "base",
   "language": "python",
   "name": "python3"
  },
  "language_info": {
   "codemirror_mode": {
    "name": "ipython",
    "version": 3
   },
   "file_extension": ".py",
   "mimetype": "text/x-python",
   "name": "python",
   "nbconvert_exporter": "python",
   "pygments_lexer": "ipython3",
   "version": "3.12.3"
  }
 },
 "nbformat": 4,
 "nbformat_minor": 2
}
