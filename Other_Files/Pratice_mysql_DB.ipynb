{
 "cells": [
  {
   "cell_type": "code",
   "execution_count": 96,
   "metadata": {},
   "outputs": [],
   "source": [
    "#! pip install mysql-connector-python -q\n"
   ]
  },
  {
   "cell_type": "code",
   "execution_count": 97,
   "metadata": {},
   "outputs": [],
   "source": [
    "# Importing the necessary module\n",
    "import mysql.connector\n"
   ]
  },
  {
   "cell_type": "code",
   "execution_count": 98,
   "metadata": {},
   "outputs": [],
   "source": [
    "# Step 1: Establish Connection\n",
    "mydb = mysql.connector.connect(\n",
    "    host = \"localhost\",\n",
    "    user = \"root\",\n",
    "    password = \"1234\"\n",
    ")"
   ]
  },
  {
   "cell_type": "code",
   "execution_count": 99,
   "metadata": {},
   "outputs": [
    {
     "name": "stdout",
     "output_type": "stream",
     "text": [
      "<mysql.connector.connection_cext.CMySQLConnection object at 0x0000019AB82384D0>\n"
     ]
    }
   ],
   "source": [
    "\n",
    "# Check the connection\n",
    "print(mydb)"
   ]
  },
  {
   "cell_type": "code",
   "execution_count": 100,
   "metadata": {},
   "outputs": [],
   "source": [
    "##Create cursor\n",
    "mycursor = mydb.cursor()"
   ]
  },
  {
   "cell_type": "code",
   "execution_count": 101,
   "metadata": {},
   "outputs": [],
   "source": [
    "mycursor.execute('SHOW DATABASES')"
   ]
  },
  {
   "cell_type": "code",
   "execution_count": 102,
   "metadata": {},
   "outputs": [
    {
     "name": "stdout",
     "output_type": "stream",
     "text": [
      "('basicsquestions',)\n",
      "('company',)\n",
      "('demo',)\n",
      "('employee_details',)\n",
      "('information_schema',)\n",
      "('mysql',)\n",
      "('performance_schema',)\n",
      "('pratice',)\n",
      "('python_sql_pratice',)\n",
      "('questions',)\n",
      "('sa_assignment',)\n",
      "('sakila',)\n",
      "('sys',)\n",
      "('temporary_employee_tracker',)\n",
      "('timeseries',)\n",
      "('udemy',)\n",
      "('wall_db',)\n",
      "('world',)\n"
     ]
    }
   ],
   "source": [
    "for x in mycursor:\n",
    "    print(x)"
   ]
  },
  {
   "cell_type": "code",
   "execution_count": 103,
   "metadata": {},
   "outputs": [],
   "source": [
    "# Create a database\n",
    "mycursor.execute('CREATE DATABASE IF NOT EXISTS PYTHON_SQL_Pratice')"
   ]
  },
  {
   "cell_type": "code",
   "execution_count": 104,
   "metadata": {},
   "outputs": [],
   "source": [
    "# Select the database\n",
    "mycursor.execute('USE PYTHON_SQL_Pratice')"
   ]
  },
  {
   "cell_type": "code",
   "execution_count": 105,
   "metadata": {},
   "outputs": [],
   "source": [
    "# Create a table in the selected database\n",
    "mycursor.execute(\"\"\"\n",
    "    CREATE TABLE IF NOT EXISTS DATA (\n",
    "        Name VARCHAR(255),\n",
    "        Address VARCHAR(255)\n",
    "    )\n",
    "\"\"\")"
   ]
  },
  {
   "cell_type": "code",
   "execution_count": 106,
   "metadata": {},
   "outputs": [
    {
     "name": "stdout",
     "output_type": "stream",
     "text": [
      "Table created successfully!\n"
     ]
    }
   ],
   "source": [
    "print(\"Table created successfully!\")"
   ]
  },
  {
   "cell_type": "code",
   "execution_count": 107,
   "metadata": {},
   "outputs": [],
   "source": [
    "#mycursor.execute(\"DROP TABLE DATA\")"
   ]
  },
  {
   "cell_type": "code",
   "execution_count": 108,
   "metadata": {},
   "outputs": [],
   "source": [
    "mycursor.execute(\"SHOW TABLES\")"
   ]
  },
  {
   "cell_type": "code",
   "execution_count": 109,
   "metadata": {},
   "outputs": [
    {
     "name": "stdout",
     "output_type": "stream",
     "text": [
      "('data',)\n"
     ]
    }
   ],
   "source": [
    "##To see the number of Tables in the mycursor\n",
    "for x in mycursor:\n",
    "    print(x)"
   ]
  },
  {
   "cell_type": "code",
   "execution_count": 112,
   "metadata": {},
   "outputs": [],
   "source": [
    "## SQL Values insert into the Tables\n",
    "sql = \"INSERT INTO DATA(NAME,ADDRESS) VALUES(%s,%s)\"\n",
    "val = [\n",
    "    (\"Kiran\",\"HYD\"),\n",
    "    (\"Raghu\",\"TN\"),\n",
    "    (\"Ajay\",\"HYD\"),\n",
    "    (\"LAxman\",\"Kochi\"),\n",
    "    (\"Ram\",\"HYD\"),\n",
    "    (\"Aditi\", \"Delhi\"),\n",
    "    (\"Rahul\", \"Mumbai\"),\n",
    "    (\"Sneha\", \"Pune\"),\n",
    "    (\"Arjun\", \"Bangalore\")\n",
    "       ]\n",
    "mycursor.executemany(sql,val)\n",
    "mydb.commit()"
   ]
  },
  {
   "cell_type": "code",
   "execution_count": 113,
   "metadata": {},
   "outputs": [
    {
     "name": "stdout",
     "output_type": "stream",
     "text": [
      "9 rows were inserted.\n"
     ]
    }
   ],
   "source": [
    "# Print the number of rows inserted\n",
    "print(f\"{mycursor.rowcount} rows were inserted.\")"
   ]
  },
  {
   "cell_type": "code",
   "execution_count": null,
   "metadata": {},
   "outputs": [],
   "source": [
    "mycursor.execute(\"SELECT * FROM DATA\") ####"
   ]
  },
  {
   "cell_type": "code",
   "execution_count": null,
   "metadata": {},
   "outputs": [
    {
     "name": "stdout",
     "output_type": "stream",
     "text": [
      "('Kiran', 'HYD')\n",
      "('Raghu', 'TN')\n",
      "('Ajay', 'HYD')\n",
      "('LAxman', 'Kochi')\n",
      "('Ram', 'HYD')\n",
      "('Aditi', 'Delhi')\n",
      "('Rahul', 'Mumbai')\n",
      "('Sneha', 'Pune')\n",
      "('Arjun', 'Bangalore')\n"
     ]
    }
   ],
   "source": [
    "#Print all the REcords in DATA\n",
    "result = mycursor.fetchall()\n",
    "for x in result:\n",
    "    print(x)"
   ]
  },
  {
   "cell_type": "code",
   "execution_count": 120,
   "metadata": {},
   "outputs": [
    {
     "name": "stdout",
     "output_type": "stream",
     "text": [
      "('Kiran', 'HYD')\n",
      "('Ajay', 'HYD')\n",
      "('Ram', 'HYD')\n"
     ]
    }
   ],
   "source": [
    "mycursor.execute(\"SELECT * FROM DATA WHERE ADDRESS= 'HYD' \") ####\n",
    "#Print all the REcords in DATA\n",
    "result = mycursor.fetchall()\n",
    "for x in result:\n",
    "    print(x)\n"
   ]
  },
  {
   "cell_type": "code",
   "execution_count": 121,
   "metadata": {},
   "outputs": [
    {
     "name": "stdout",
     "output_type": "stream",
     "text": [
      "('Ajay', 'HYD')\n",
      "('Kiran', 'HYD')\n",
      "('Ram', 'HYD')\n"
     ]
    }
   ],
   "source": [
    "mycursor.execute(\"\"\"SELECT * FROM DATA \n",
    "                 WHERE ADDRESS= 'HYD'\n",
    "                 ORDER BY name\n",
    "                  \"\"\") ####\n",
    "#Print all the REcords in DATA\n",
    "result = mycursor.fetchall()\n",
    "for x in result:\n",
    "    print(x)\n"
   ]
  },
  {
   "cell_type": "code",
   "execution_count": null,
   "metadata": {},
   "outputs": [],
   "source": []
  },
  {
   "cell_type": "code",
   "execution_count": null,
   "metadata": {},
   "outputs": [],
   "source": []
  }
 ],
 "metadata": {
  "kernelspec": {
   "display_name": "base",
   "language": "python",
   "name": "python3"
  },
  "language_info": {
   "codemirror_mode": {
    "name": "ipython",
    "version": 3
   },
   "file_extension": ".py",
   "mimetype": "text/x-python",
   "name": "python",
   "nbconvert_exporter": "python",
   "pygments_lexer": "ipython3",
   "version": "3.12.3"
  }
 },
 "nbformat": 4,
 "nbformat_minor": 2
}
