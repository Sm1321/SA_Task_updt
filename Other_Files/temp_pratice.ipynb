{
 "cells": [
  {
   "cell_type": "code",
   "execution_count": null,
   "metadata": {},
   "outputs": [],
   "source": [
    "def fetch_main_table_data():\n",
    "    connection = get_database_connection()\n",
    "    cursor = connection.cursor()\n",
    "    cursor.execute(\"SELECT WeekEnd_Date, Employee, Project, Time_in_hours FROM main_table\")  # Updated query\n",
    "    rows = cursor.fetchall()\n",
    "    columns = [\"WeekEnd_Date\", \"Employee\", \"Project\", \"Time_in_hours\"]\n",
    "    df = pd.DataFrame(rows, columns=columns)\n",
    "\n",
    "    # Print the DataFrame to check the available columns\n",
    "    #st.write(\"Data Columns:\", df.columns)\n",
    "\n",
    "    df['WeekEnd_Date'] = pd.to_datetime(df['WeekEnd_Date'])\n",
    "    df['Year'] = df['WeekEnd_Date'].dt.year\n",
    "    df['WeekNumber(In that Year)'] = df['WeekEnd_Date'].dt.isocalendar().week\n",
    "    df['WeekEnd_Date'] = df['WeekEnd_Date'].dt.date  # Retain only the Date part\n",
    "    cursor.close()\n",
    "    return df\n"
   ]
  },
  {
   "cell_type": "code",
   "execution_count": null,
   "metadata": {},
   "outputs": [],
   "source": []
  },
  {
   "cell_type": "code",
   "execution_count": null,
   "metadata": {},
   "outputs": [],
   "source": []
  }
 ],
 "metadata": {
  "kernelspec": {
   "display_name": "base",
   "language": "python",
   "name": "python3"
  },
  "language_info": {
   "name": "python",
   "version": "3.12.3"
  }
 },
 "nbformat": 4,
 "nbformat_minor": 2
}
